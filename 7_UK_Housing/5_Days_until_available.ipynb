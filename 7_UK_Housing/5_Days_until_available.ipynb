{
 "cells": [
  {
   "cell_type": "markdown",
   "id": "26c7ac46",
   "metadata": {},
   "source": [
    "## 1. Number of days until the property is available to move in."
   ]
  },
  {
   "cell_type": "markdown",
   "id": "889c4f2f",
   "metadata": {},
   "source": [
    "#### Import dataset that created using `view` in SQL."
   ]
  },
  {
   "cell_type": "code",
   "execution_count": 1,
   "id": "3039359f",
   "metadata": {},
   "outputs": [],
   "source": [
    "import pandas as pd\n",
    "import seaborn as sns\n",
    "import matplotlib.pyplot as plt  \n",
    "\n",
    "from adjustText import adjust_text\n",
    "from matplotlib.ticker import PercentFormatter, FuncFormatter\n",
    "\n",
    "df_original = pd.read_csv(r'C:\\Users\\Dell\\DA_FILE\\100_My_Project\\7_UK_Housing\\Manchester_Rent.csv')\n",
    "\n",
    "sns.set_style('ticks')\n",
    "\n",
    "# Drop unnecessary columns\n",
    "df = df_original.drop('location',axis=1)\n",
    "df =df.drop('property_id',axis=1)"
   ]
  },
  {
   "cell_type": "markdown",
   "id": "720c680f",
   "metadata": {},
   "source": [
    "### Create Dataframe by grouping days until available and calculate percentage.  "
   ]
  },
  {
   "cell_type": "code",
   "execution_count": 5,
   "id": "e17a4e6c",
   "metadata": {},
   "outputs": [
    {
     "data": {
      "text/html": [
       "<div>\n",
       "<style scoped>\n",
       "    .dataframe tbody tr th:only-of-type {\n",
       "        vertical-align: middle;\n",
       "    }\n",
       "\n",
       "    .dataframe tbody tr th {\n",
       "        vertical-align: top;\n",
       "    }\n",
       "\n",
       "    .dataframe thead th {\n",
       "        text-align: right;\n",
       "    }\n",
       "</style>\n",
       "<table border=\"1\" class=\"dataframe\">\n",
       "  <thead>\n",
       "    <tr style=\"text-align: right;\">\n",
       "      <th></th>\n",
       "      <th></th>\n",
       "      <th>posting_count</th>\n",
       "      <th>percentage</th>\n",
       "    </tr>\n",
       "    <tr>\n",
       "      <th>available</th>\n",
       "      <th>till_move_in_day</th>\n",
       "      <th></th>\n",
       "      <th></th>\n",
       "    </tr>\n",
       "  </thead>\n",
       "  <tbody>\n",
       "    <tr>\n",
       "      <th>01/05/2023</th>\n",
       "      <th>15</th>\n",
       "      <td>75</td>\n",
       "      <td>7.462687</td>\n",
       "    </tr>\n",
       "    <tr>\n",
       "      <th>01/06/2023</th>\n",
       "      <th>46</th>\n",
       "      <td>32</td>\n",
       "      <td>3.184080</td>\n",
       "    </tr>\n",
       "    <tr>\n",
       "      <th>01/07/2023</th>\n",
       "      <th>76</th>\n",
       "      <td>43</td>\n",
       "      <td>4.278607</td>\n",
       "    </tr>\n",
       "    <tr>\n",
       "      <th>01/08/2023</th>\n",
       "      <th>107</th>\n",
       "      <td>4</td>\n",
       "      <td>0.398010</td>\n",
       "    </tr>\n",
       "    <tr>\n",
       "      <th>01/09/2023</th>\n",
       "      <th>138</th>\n",
       "      <td>3</td>\n",
       "      <td>0.298507</td>\n",
       "    </tr>\n",
       "    <tr>\n",
       "      <th>...</th>\n",
       "      <th>...</th>\n",
       "      <td>...</td>\n",
       "      <td>...</td>\n",
       "    </tr>\n",
       "    <tr>\n",
       "      <th>30/04/2023</th>\n",
       "      <th>14</th>\n",
       "      <td>22</td>\n",
       "      <td>2.189055</td>\n",
       "    </tr>\n",
       "    <tr>\n",
       "      <th>30/05/2023</th>\n",
       "      <th>44</th>\n",
       "      <td>1</td>\n",
       "      <td>0.099502</td>\n",
       "    </tr>\n",
       "    <tr>\n",
       "      <th>30/06/2023</th>\n",
       "      <th>75</th>\n",
       "      <td>2</td>\n",
       "      <td>0.199005</td>\n",
       "    </tr>\n",
       "    <tr>\n",
       "      <th>31/05/2023</th>\n",
       "      <th>45</th>\n",
       "      <td>7</td>\n",
       "      <td>0.696517</td>\n",
       "    </tr>\n",
       "    <tr>\n",
       "      <th>31/08/2023</th>\n",
       "      <th>137</th>\n",
       "      <td>1</td>\n",
       "      <td>0.099502</td>\n",
       "    </tr>\n",
       "  </tbody>\n",
       "</table>\n",
       "<p>95 rows × 2 columns</p>\n",
       "</div>"
      ],
      "text/plain": [
       "                             posting_count  percentage\n",
       "available  till_move_in_day                           \n",
       "01/05/2023 15                           75    7.462687\n",
       "01/06/2023 46                           32    3.184080\n",
       "01/07/2023 76                           43    4.278607\n",
       "01/08/2023 107                           4    0.398010\n",
       "01/09/2023 138                           3    0.298507\n",
       "...                                    ...         ...\n",
       "30/04/2023 14                           22    2.189055\n",
       "30/05/2023 44                            1    0.099502\n",
       "30/06/2023 75                            2    0.199005\n",
       "31/05/2023 45                            7    0.696517\n",
       "31/08/2023 137                           1    0.099502\n",
       "\n",
       "[95 rows x 2 columns]"
      ]
     },
     "execution_count": 5,
     "metadata": {},
     "output_type": "execute_result"
    }
   ],
   "source": [
    "df_move_in= df.groupby(['available','till_move_in_day']).agg(\n",
    "    posting_count = ('till_move_in_day','size')\n",
    ")\n",
    "df_move_in['percentage']= df_move_in['posting_count'].div(len(df)/100)\n",
    "df_move_in"
   ]
  },
  {
   "cell_type": "markdown",
   "id": "520ee8ad",
   "metadata": {},
   "source": [
    "### Explore most posted dates"
   ]
  },
  {
   "cell_type": "code",
   "execution_count": 6,
   "id": "077eda3b",
   "metadata": {},
   "outputs": [
    {
     "data": {
      "text/html": [
       "<div>\n",
       "<style scoped>\n",
       "    .dataframe tbody tr th:only-of-type {\n",
       "        vertical-align: middle;\n",
       "    }\n",
       "\n",
       "    .dataframe tbody tr th {\n",
       "        vertical-align: top;\n",
       "    }\n",
       "\n",
       "    .dataframe thead th {\n",
       "        text-align: right;\n",
       "    }\n",
       "</style>\n",
       "<table border=\"1\" class=\"dataframe\">\n",
       "  <thead>\n",
       "    <tr style=\"text-align: right;\">\n",
       "      <th></th>\n",
       "      <th></th>\n",
       "      <th>posting_count</th>\n",
       "      <th>percentage</th>\n",
       "    </tr>\n",
       "    <tr>\n",
       "      <th>available</th>\n",
       "      <th>till_move_in_day</th>\n",
       "      <th></th>\n",
       "      <th></th>\n",
       "    </tr>\n",
       "  </thead>\n",
       "  <tbody>\n",
       "    <tr>\n",
       "      <th>16/04/2023</th>\n",
       "      <th>0</th>\n",
       "      <td>536</td>\n",
       "      <td>53.333333</td>\n",
       "    </tr>\n",
       "    <tr>\n",
       "      <th>01/05/2023</th>\n",
       "      <th>15</th>\n",
       "      <td>75</td>\n",
       "      <td>7.462687</td>\n",
       "    </tr>\n",
       "    <tr>\n",
       "      <th>01/07/2023</th>\n",
       "      <th>76</th>\n",
       "      <td>43</td>\n",
       "      <td>4.278607</td>\n",
       "    </tr>\n",
       "    <tr>\n",
       "      <th>01/06/2023</th>\n",
       "      <th>46</th>\n",
       "      <td>32</td>\n",
       "      <td>3.184080</td>\n",
       "    </tr>\n",
       "    <tr>\n",
       "      <th>30/04/2023</th>\n",
       "      <th>14</th>\n",
       "      <td>22</td>\n",
       "      <td>2.189055</td>\n",
       "    </tr>\n",
       "    <tr>\n",
       "      <th>17/04/2023</th>\n",
       "      <th>1</th>\n",
       "      <td>13</td>\n",
       "      <td>1.293532</td>\n",
       "    </tr>\n",
       "    <tr>\n",
       "      <th>20/04/2023</th>\n",
       "      <th>4</th>\n",
       "      <td>13</td>\n",
       "      <td>1.293532</td>\n",
       "    </tr>\n",
       "    <tr>\n",
       "      <th>15/05/2023</th>\n",
       "      <th>29</th>\n",
       "      <td>11</td>\n",
       "      <td>1.094527</td>\n",
       "    </tr>\n",
       "  </tbody>\n",
       "</table>\n",
       "</div>"
      ],
      "text/plain": [
       "                             posting_count  percentage\n",
       "available  till_move_in_day                           \n",
       "16/04/2023 0                           536   53.333333\n",
       "01/05/2023 15                           75    7.462687\n",
       "01/07/2023 76                           43    4.278607\n",
       "01/06/2023 46                           32    3.184080\n",
       "30/04/2023 14                           22    2.189055\n",
       "17/04/2023 1                            13    1.293532\n",
       "20/04/2023 4                            13    1.293532\n",
       "15/05/2023 29                           11    1.094527"
      ]
     },
     "execution_count": 6,
     "metadata": {},
     "output_type": "execute_result"
    }
   ],
   "source": [
    "df_most = df_move_in[df_move_in['percentage']>=1].sort_values(by='percentage',ascending=False)\n",
    "df_most"
   ]
  },
  {
   "cell_type": "markdown",
   "id": "8ffbdd04",
   "metadata": {},
   "source": [
    "- Over 50% of posting is free to move in, followed by high demand for moving in on the first day of the month."
   ]
  },
  {
   "cell_type": "code",
   "execution_count": 11,
   "id": "72f4e85e",
   "metadata": {},
   "outputs": [],
   "source": [
    "# Dictionary to display labels\n",
    "day_dict = { 15 : 'May 1st', 46: 'June 1st', 76: 'July 1st'}"
   ]
  },
  {
   "cell_type": "markdown",
   "id": "aea3690b",
   "metadata": {},
   "source": [
    "- Using seaborn `displot`, visualize the distribution of results and mark the first day of the month."
   ]
  },
  {
   "cell_type": "code",
   "execution_count": 12,
   "id": "e95ce371",
   "metadata": {},
   "outputs": [
    {
     "data": {
      "image/png": "[encoded data removed]",
      "text/plain": [
       "<Figure size 500x500 with 1 Axes>"
      ]
     },
     "metadata": {},
     "output_type": "display_data"
    }
   ],
   "source": [
    "sns.displot(df['till_move_in_day'], bins=90)\n",
    "\n",
    "texts = []\n",
    "for i, (days, show_date) in enumerate(day_dict.items()):\n",
    "    texts.append(plt.text(x=days,\n",
    "            y= df_most[df_most.index.get_level_values('till_move_in_day') == days]['posting_count'].iloc[0]+20,\n",
    "            s =show_date, ha='center',va='center'))\n",
    "\n",
    "plt.title('Move-in availability distribution',fontsize=18)\n",
    "plt.ylabel('Posting Count')\n",
    "plt.xlabel('Days Left')\n",
    "plt.xlim(0,90)\n",
    "plt.tight_layout()\n",
    "plt.show()\n"
   ]
  },
  {
   "cell_type": "markdown",
   "id": "8f251900",
   "metadata": {},
   "source": [
    "#### Insight\n",
    "    - More than 50% of the listed properties are available for immediate move-in.\n",
    "    - The first day of the month is the next popular demanded move-in date.\n",
    "    - Additionally, many properties become available to move-in within a month."
   ]
  },
  {
   "cell_type": "markdown",
   "id": "eb9c8100",
   "metadata": {},
   "source": []
  }
 ],
 "metadata": {
  "kernelspec": {
   "display_name": "python_course",
   "language": "python",
   "name": "python3"
  },
  "language_info": {
   "codemirror_mode": {
    "name": "ipython",
    "version": 3
   },
   "file_extension": ".py",
   "mimetype": "text/x-python",
   "name": "python",
   "nbconvert_exporter": "python",
   "pygments_lexer": "ipython3",
   "version": "3.11.11"
  }
 },
 "nbformat": 4,
 "nbformat_minor": 5
}
